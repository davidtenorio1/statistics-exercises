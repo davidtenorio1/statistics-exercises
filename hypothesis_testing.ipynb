{
 "cells": [
  {
   "cell_type": "markdown",
   "metadata": {},
   "source": [
    "# Hypothesis Testing\n",
    "\n",
    "### Instructions: For each of the following questions, formulate a null and alternative hypothesis (be as specific as you can be), then give an example of what a true positive, true negative, type I and type II errors would look like.\n",
    "\n",
    "\n",
    "\n",
    "\n",
    "Is the website redesign any good?\n",
    "\n",
    "H<sub>0</sub>: There is no difference in website traffic after the redesign\n",
    "\n",
    "\n",
    "H<sub>1</sub>: The website traffic has increased since the redesign \n",
    "\n",
    "   - True positve: There is a difference in website traffic and we conclude there is a difference.\n",
    "   \n",
    "   \n",
    "   - True negative: There is no difference in website traffice and we conclude there is no difference.\n",
    "   \n",
    "\n",
    "   - Type 1 error: we conclude there is a difference in website traffic after the redisign when there actually wasn't\n",
    "\n",
    "\n",
    "   - Type 2 error: We conclude there is no difference in website traffic after the resdisign when there actually was\n",
    "\n",
    "Is our television ad driving more sales?\n",
    "\n",
    "H<sub>0</sub>: There is no difference in sales since our television ad aired\n",
    "\n",
    "H<sub>1</sub>: Sales have increased since our television ad aired\n",
    "\n",
    "   - True positve: There is a difference in sales and we conclude there is a difference.\n",
    "   \n",
    "   \n",
    "   - True negative: There is no difference in sales and we conclude there is no difference.\n",
    "   \n",
    "- Type 1 error: We conclude sales are up since the ad aired, but there is really no difference in sales\n",
    "\n",
    "- Type 2 error: We conclude there is no difference in sales after the ad aired but in reality sales have changed\n",
    "\n",
    "Has the network latency gone up since we switched internet service providers?\n",
    "\n",
    "H<sub>0</sub>: There is no difference in network latency since we sitched isp\n",
    "\n",
    "H<sub>1</sub>: Network latency has gone up since we switched isp\n",
    "\n",
    "   - True positve: There is a difference in network latency and we conclude there is a difference\n",
    "   \n",
    "   \n",
    "   - True negative: There is no difference in network latency and we conlude there is no difference. \n",
    "   \n",
    "- Type 1 error: We conlude there is a difference in network latency since switching isp when in reality there is not\n",
    "\n",
    "- Type 2 error: We conlude there is no difference in network latency since switching isp when in reality there is\n"
   ]
  },
  {
   "cell_type": "code",
   "execution_count": null,
   "metadata": {},
   "outputs": [],
   "source": []
  },
  {
   "cell_type": "code",
   "execution_count": null,
   "metadata": {},
   "outputs": [],
   "source": []
  }
 ],
 "metadata": {
  "kernelspec": {
   "display_name": "Python 3",
   "language": "python",
   "name": "python3"
  },
  "language_info": {
   "codemirror_mode": {
    "name": "ipython",
    "version": 3
   },
   "file_extension": ".py",
   "mimetype": "text/x-python",
   "name": "python",
   "nbconvert_exporter": "python",
   "pygments_lexer": "ipython3",
   "version": "3.7.3"
  }
 },
 "nbformat": 4,
 "nbformat_minor": 2
}
