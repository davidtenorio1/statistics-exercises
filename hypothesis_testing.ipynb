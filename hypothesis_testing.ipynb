{
 "cells": [
  {
   "cell_type": "markdown",
   "metadata": {},
   "source": [
    "# Hypothesis Testing\n",
    "\n",
    "### Instructions: For each of the following questions, formulate a null and alternative hypothesis (be as specific as you can be), then give an example of what a true positive, true negative, type I and type II errors would look like.\n",
    "\n",
    "\n",
    "\n",
    "\n",
    "Is the website redesign any good?\n",
    "\n",
    "H<sub>0</sub>: There is no difference in website traffic after the redesign\n",
    "\n",
    "\n",
    "H<sub>1</sub>: The website traffic has increased since the redesign \n",
    "\n",
    "   - True positve: There is a difference in website traffic and we conclude there is a difference.\n",
    "   \n",
    "   \n",
    "   - True negative: There is no difference in website traffice and we conclude there is no difference.\n",
    "   \n",
    "\n",
    "   - Type 1 error: we conclude there is a difference in website traffic after the redisign when there actually wasn't\n",
    "\n",
    "\n",
    "   - Type 2 error: We conclude there is no difference in website traffic after the resdisign when there actually was\n",
    "\n",
    "Is our television ad driving more sales?\n",
    "\n",
    "H<sub>0</sub>: There is no difference in sales since our television ad aired\n",
    "\n",
    "H<sub>1</sub>: Sales have increased since our television ad aired\n",
    "\n",
    "   - True positve: There is a difference in sales and we conclude there is a difference.\n",
    "   \n",
    "   \n",
    "   - True negative: There is no difference in sales and we conclude there is no difference.\n",
    "   \n",
    "- Type 1 error: We conclude sales are up since the ad aired, but there is really no difference in sales\n",
    "\n",
    "- Type 2 error: We conclude there is no difference in sales after the ad aired but in reality sales have changed\n",
    "\n",
    "Has the network latency gone up since we switched internet service providers?\n",
    "\n",
    "H<sub>0</sub>: There is no difference in network latency since we sitched isp\n",
    "\n",
    "H<sub>1</sub>: Network latency has gone up since we switched isp\n",
    "\n",
    "   - True positve: There is a difference in network latency and we conclude there is a difference\n",
    "   \n",
    "   \n",
    "   - True negative: There is no difference in network latency and we conlude there is no difference. \n",
    "   \n",
    "- Type 1 error: We conlude there is a difference in network latency since switching isp when in reality there is not\n",
    "\n",
    "- Type 2 error: We conlude there is no difference in network latency since switching isp when in reality there is\n"
   ]
  },
  {
   "cell_type": "markdown",
   "metadata": {},
   "source": [
    "### Ace Realty wants to determine whether the average time it takes to sell homes is different for its two offices. A sample of 40 sales from office #1 revealed a mean of 90 days and a standard deviation of 15 days. A sample of 50 sales from office #2 revealed a mean of 100 days and a standard deviation of 20 days. Use a .05 level of significance."
   ]
  },
  {
   "cell_type": "code",
   "execution_count": 533,
   "metadata": {},
   "outputs": [
    {
     "name": "stdout",
     "output_type": "stream",
     "text": [
      "t =  -4.745112465394579\n",
      "p =  8.003147241173728e-06\n"
     ]
    }
   ],
   "source": [
    "from math import sqrt\n",
    "from scipy import stats\n",
    "\n",
    "%matplotlib inline\n",
    "import matplotlib.pyplot as plt\n",
    "import numpy as np\n",
    "import pandas as pd\n",
    "from pydataset import data\n",
    "\n",
    "office1 = stats.norm.rvs(loc=90,scale=15,size=40)\n",
    "office2 = stats.norm.rvs(loc=100,scale=20,size=50)\n",
    "t, p = stats.ttest_ind(office1,office2)\n",
    "\n",
    "print(\"t = \" , t)\n",
    "print('p = ', p)"
   ]
  },
  {
   "cell_type": "markdown",
   "metadata": {},
   "source": [
    "### Load the mpg dataset and use it to answer the following questions:\n",
    "\n",
    "- Is there a difference in fuel-efficiency in cars from 2008 vs 1999?"
   ]
  },
  {
   "cell_type": "code",
   "execution_count": 534,
   "metadata": {},
   "outputs": [
    {
     "data": {
      "text/plain": [
       "Ttest_indResult(statistic=0.21960177245940962, pvalue=0.8263744040323578)"
      ]
     },
     "execution_count": 534,
     "metadata": {},
     "output_type": "execute_result"
    }
   ],
   "source": [
    "mpg = data('mpg')\n",
    "mpg['avg_mpg'] = (mpg.cty + mpg.hwy) / 2\n",
    "cars_1999 = mpg[mpg.year == 1999].avg_mpg\n",
    "cars_2008 = mpg[mpg.year == 2008].avg_mpg\n",
    "stats.ttest_ind(cars_1999,cars_2008)\n",
    "# Yes, there's a difference in fuel-efficiency in cars from 2008 vs 1999."
   ]
  },
  {
   "cell_type": "markdown",
   "metadata": {},
   "source": [
    "- Are compact cars more fuel-efficient than the average car?"
   ]
  },
  {
   "cell_type": "code",
   "execution_count": 535,
   "metadata": {},
   "outputs": [
    {
     "data": {
      "text/html": [
       "<div>\n",
       "<style scoped>\n",
       "    .dataframe tbody tr th:only-of-type {\n",
       "        vertical-align: middle;\n",
       "    }\n",
       "\n",
       "    .dataframe tbody tr th {\n",
       "        vertical-align: top;\n",
       "    }\n",
       "\n",
       "    .dataframe thead th {\n",
       "        text-align: right;\n",
       "    }\n",
       "</style>\n",
       "<table border=\"1\" class=\"dataframe\">\n",
       "  <thead>\n",
       "    <tr style=\"text-align: right;\">\n",
       "      <th></th>\n",
       "      <th>displ</th>\n",
       "      <th>year</th>\n",
       "      <th>cyl</th>\n",
       "      <th>cty</th>\n",
       "      <th>hwy</th>\n",
       "      <th>avg_mpg</th>\n",
       "      <th>is_compact</th>\n",
       "    </tr>\n",
       "    <tr>\n",
       "      <th>class</th>\n",
       "      <th></th>\n",
       "      <th></th>\n",
       "      <th></th>\n",
       "      <th></th>\n",
       "      <th></th>\n",
       "      <th></th>\n",
       "      <th></th>\n",
       "    </tr>\n",
       "  </thead>\n",
       "  <tbody>\n",
       "    <tr>\n",
       "      <th>pickup</th>\n",
       "      <td>4.418182</td>\n",
       "      <td>2003.636364</td>\n",
       "      <td>7.030303</td>\n",
       "      <td>13.000000</td>\n",
       "      <td>16.878788</td>\n",
       "      <td>14.939394</td>\n",
       "      <td>False</td>\n",
       "    </tr>\n",
       "    <tr>\n",
       "      <th>suv</th>\n",
       "      <td>4.456452</td>\n",
       "      <td>2003.790323</td>\n",
       "      <td>6.967742</td>\n",
       "      <td>13.500000</td>\n",
       "      <td>18.129032</td>\n",
       "      <td>15.814516</td>\n",
       "      <td>False</td>\n",
       "    </tr>\n",
       "    <tr>\n",
       "      <th>minivan</th>\n",
       "      <td>3.390909</td>\n",
       "      <td>2003.090909</td>\n",
       "      <td>5.818182</td>\n",
       "      <td>15.818182</td>\n",
       "      <td>22.363636</td>\n",
       "      <td>19.090909</td>\n",
       "      <td>False</td>\n",
       "    </tr>\n",
       "    <tr>\n",
       "      <th>2seater</th>\n",
       "      <td>6.160000</td>\n",
       "      <td>2004.400000</td>\n",
       "      <td>8.000000</td>\n",
       "      <td>15.400000</td>\n",
       "      <td>24.800000</td>\n",
       "      <td>20.100000</td>\n",
       "      <td>False</td>\n",
       "    </tr>\n",
       "    <tr>\n",
       "      <th>midsize</th>\n",
       "      <td>2.921951</td>\n",
       "      <td>2003.609756</td>\n",
       "      <td>5.317073</td>\n",
       "      <td>18.756098</td>\n",
       "      <td>27.292683</td>\n",
       "      <td>23.024390</td>\n",
       "      <td>False</td>\n",
       "    </tr>\n",
       "    <tr>\n",
       "      <th>compact</th>\n",
       "      <td>2.325532</td>\n",
       "      <td>2003.212766</td>\n",
       "      <td>4.595745</td>\n",
       "      <td>20.127660</td>\n",
       "      <td>28.297872</td>\n",
       "      <td>24.212766</td>\n",
       "      <td>True</td>\n",
       "    </tr>\n",
       "    <tr>\n",
       "      <th>subcompact</th>\n",
       "      <td>2.660000</td>\n",
       "      <td>2003.114286</td>\n",
       "      <td>5.028571</td>\n",
       "      <td>20.371429</td>\n",
       "      <td>28.142857</td>\n",
       "      <td>24.257143</td>\n",
       "      <td>True</td>\n",
       "    </tr>\n",
       "  </tbody>\n",
       "</table>\n",
       "</div>"
      ],
      "text/plain": [
       "               displ         year       cyl        cty        hwy    avg_mpg  \\\n",
       "class                                                                          \n",
       "pickup      4.418182  2003.636364  7.030303  13.000000  16.878788  14.939394   \n",
       "suv         4.456452  2003.790323  6.967742  13.500000  18.129032  15.814516   \n",
       "minivan     3.390909  2003.090909  5.818182  15.818182  22.363636  19.090909   \n",
       "2seater     6.160000  2004.400000  8.000000  15.400000  24.800000  20.100000   \n",
       "midsize     2.921951  2003.609756  5.317073  18.756098  27.292683  23.024390   \n",
       "compact     2.325532  2003.212766  4.595745  20.127660  28.297872  24.212766   \n",
       "subcompact  2.660000  2003.114286  5.028571  20.371429  28.142857  24.257143   \n",
       "\n",
       "            is_compact  \n",
       "class                   \n",
       "pickup           False  \n",
       "suv              False  \n",
       "minivan          False  \n",
       "2seater          False  \n",
       "midsize          False  \n",
       "compact           True  \n",
       "subcompact        True  "
      ]
     },
     "execution_count": 535,
     "metadata": {},
     "output_type": "execute_result"
    }
   ],
   "source": [
    "mpg['avg_mpg'] = (mpg.cty + mpg.hwy) / 2\n",
    "mpg['is_compact'] = mpg['class'].str.contains('compact')\n",
    "stats.ttest_1samp(mpg.is_compact, mpg.avg_mpg.mean())\n",
    "mpg.groupby(['class']).mean().sort_values('avg_mpg')\n",
    "# Yes, compact cars are more fuel efficient than the average car."
   ]
  },
  {
   "cell_type": "markdown",
   "metadata": {},
   "source": [
    "- Do manual cars get better gas mileage than automatic cars?"
   ]
  },
  {
   "cell_type": "code",
   "execution_count": 536,
   "metadata": {},
   "outputs": [
    {
     "data": {
      "text/html": [
       "<div>\n",
       "<style scoped>\n",
       "    .dataframe tbody tr th:only-of-type {\n",
       "        vertical-align: middle;\n",
       "    }\n",
       "\n",
       "    .dataframe tbody tr th {\n",
       "        vertical-align: top;\n",
       "    }\n",
       "\n",
       "    .dataframe thead th {\n",
       "        text-align: right;\n",
       "    }\n",
       "</style>\n",
       "<table border=\"1\" class=\"dataframe\">\n",
       "  <thead>\n",
       "    <tr style=\"text-align: right;\">\n",
       "      <th></th>\n",
       "      <th>displ</th>\n",
       "      <th>year</th>\n",
       "      <th>cyl</th>\n",
       "      <th>cty</th>\n",
       "      <th>hwy</th>\n",
       "      <th>avg_mpg</th>\n",
       "      <th>is_compact</th>\n",
       "    </tr>\n",
       "    <tr>\n",
       "      <th>is_manual</th>\n",
       "      <th></th>\n",
       "      <th></th>\n",
       "      <th></th>\n",
       "      <th></th>\n",
       "      <th></th>\n",
       "      <th></th>\n",
       "      <th></th>\n",
       "    </tr>\n",
       "  </thead>\n",
       "  <tbody>\n",
       "    <tr>\n",
       "      <th>False</th>\n",
       "      <td>3.719745</td>\n",
       "      <td>2003.757962</td>\n",
       "      <td>6.203822</td>\n",
       "      <td>15.968153</td>\n",
       "      <td>22.292994</td>\n",
       "      <td>19.130573</td>\n",
       "      <td>0.254777</td>\n",
       "    </tr>\n",
       "    <tr>\n",
       "      <th>True</th>\n",
       "      <td>2.966234</td>\n",
       "      <td>2002.974026</td>\n",
       "      <td>5.246753</td>\n",
       "      <td>18.675325</td>\n",
       "      <td>25.779221</td>\n",
       "      <td>22.227273</td>\n",
       "      <td>0.545455</td>\n",
       "    </tr>\n",
       "  </tbody>\n",
       "</table>\n",
       "</div>"
      ],
      "text/plain": [
       "              displ         year       cyl        cty        hwy    avg_mpg  \\\n",
       "is_manual                                                                     \n",
       "False      3.719745  2003.757962  6.203822  15.968153  22.292994  19.130573   \n",
       "True       2.966234  2002.974026  5.246753  18.675325  25.779221  22.227273   \n",
       "\n",
       "           is_compact  \n",
       "is_manual              \n",
       "False        0.254777  \n",
       "True         0.545455  "
      ]
     },
     "execution_count": 536,
     "metadata": {},
     "output_type": "execute_result"
    }
   ],
   "source": [
    "mpg['avg_mpg'] = (mpg.cty + mpg.hwy) / 2\n",
    "mpg['is_manual'] = mpg['trans'].str.contains(\"manual\")\n",
    "manual = mpg[mpg.is_manual == True].avg_mpg\n",
    "auto = mpg[mpg.is_manual == False].avg_mpg\n",
    "stats.ttest_ind(manual, auto)\n",
    "mpg.groupby(['is_manual']).mean().sort_values('avg_mpg')\n",
    "# Yes, manual cars have better overall gas mileage than city cars"
   ]
  },
  {
   "cell_type": "markdown",
   "metadata": {},
   "source": [
    "### Part 2 Correlation"
   ]
  },
  {
   "cell_type": "markdown",
   "metadata": {},
   "source": [
    "- Use the telco_churn data."
   ]
  },
  {
   "cell_type": "code",
   "execution_count": 537,
   "metadata": {},
   "outputs": [],
   "source": [
    "import env\n",
    "from env import host, user, password\n",
    "\n",
    "url = f'mysql+pymysql://{user}:{password}@{host}/telco_churn'\n",
    "\n",
    "df = pd.read_sql('SELECT * FROM customers', url)"
   ]
  },
  {
   "cell_type": "markdown",
   "metadata": {},
   "source": [
    "- Does tenure correlate with monthly charges?"
   ]
  },
  {
   "cell_type": "code",
   "execution_count": 538,
   "metadata": {},
   "outputs": [
    {
     "name": "stdout",
     "output_type": "stream",
     "text": [
      "r = 0.247900\n",
      "p = 0.000000\n"
     ]
    }
   ],
   "source": [
    "r,p = stats.pearsonr(df.tenure, df.monthly_charges)\n",
    "print(f'r = {r:f}')\n",
    "print(f'p = {p:f}')\n",
    "# Yes, tenure does correlate well with monthly charges."
   ]
  },
  {
   "cell_type": "markdown",
   "metadata": {},
   "source": [
    "- Total charges?"
   ]
  },
  {
   "cell_type": "code",
   "execution_count": 539,
   "metadata": {},
   "outputs": [
    {
     "name": "stdout",
     "output_type": "stream",
     "text": [
      "r = 0.825880\n",
      "p = 0.000000\n"
     ]
    }
   ],
   "source": [
    "df = pd.read_sql('SELECT * FROM customers where total_charges > 0', url)\n",
    "df['total_charges_float'] = pd.to_numeric(df.total_charges, errors= 'coerce')\n",
    "\n",
    "r,p = stats.pearsonr(df.tenure, df.total_charges_float)\n",
    "print(f'r = {r:f}')\n",
    "print(f'p = {p:f}')\n",
    "# Yes, tenure and total charges correlate very well."
   ]
  },
  {
   "cell_type": "markdown",
   "metadata": {},
   "source": [
    "- What happens if you control for phone and internet service?"
   ]
  },
  {
   "cell_type": "code",
   "execution_count": 540,
   "metadata": {},
   "outputs": [
    {
     "name": "stdout",
     "output_type": "stream",
     "text": [
      "r = 0.624621\n",
      "p = 0.000000\n",
      "r = 0.985309\n",
      "p = 0.000000\n"
     ]
    }
   ],
   "source": [
    "url = f'mysql+pymysql://{user}:{password}@{host}/telco_churn'\n",
    "phone_internet = pd.read_sql('select * from customers where phone_service = \"Yes\" and internet_service_type_id = \"2\"', url)\n",
    "r,p = stats.pearsonr(phone_internet.tenure, phone_internet.monthly_charges)\n",
    "print(f'r = {r:f}')\n",
    "print(f'p = {p:f}')\n",
    "# When controlling for phone and internet service, monthly charges still correlate very well with tenure\n",
    "\n",
    "phone_internet['total_charges_float'] = phone_internet['total_charges'].astype('float')\n",
    "r,p = stats.pearsonr(phone_internet.tenure, phone_internet.total_charges_float)\n",
    "print(f'r = {r:f}')\n",
    "print(f'p = {p:f}')\n",
    "# When controlling for phone and internet service, total charges still correlate very well with tenure\n",
    "\n"
   ]
  },
  {
   "cell_type": "markdown",
   "metadata": {},
   "source": [
    "- Use the employees database."
   ]
  },
  {
   "cell_type": "code",
   "execution_count": 541,
   "metadata": {},
   "outputs": [],
   "source": [
    "url = f'mysql+pymysql://{user}:{password}@{host}/employees'\n",
    "\n",
    "employees_df = pd.read_sql('SELECT * FROM employees', url)"
   ]
  },
  {
   "cell_type": "markdown",
   "metadata": {},
   "source": [
    "- Is there a relationship between how long an employee has been with the company and their salary?"
   ]
  },
  {
   "cell_type": "code",
   "execution_count": 542,
   "metadata": {},
   "outputs": [
    {
     "name": "stdout",
     "output_type": "stream",
     "text": [
      "r = 0.306463\n",
      "p = 0.000000\n"
     ]
    }
   ],
   "source": [
    "salaries = pd.read_sql(\"\"\"select salary, DateDiff(now(), hire_date) as tenure_in_days \n",
    "                        from employees join salaries on salaries.emp_no = employees.emp_no \n",
    "                        where to_date = '9999-01-01'\"\"\", url)\n",
    "r,p = stats.pearsonr(salaries.salary, salaries.tenure_in_days)\n",
    "print(f'r = {r:f}')\n",
    "print(f'p = {p:f}')\n",
    "# There is a moderate to weak correlation"
   ]
  },
  {
   "cell_type": "markdown",
   "metadata": {},
   "source": [
    "- Is there a relationship between how long an employee has been with the company and the number of titles they have had?"
   ]
  },
  {
   "cell_type": "code",
   "execution_count": 543,
   "metadata": {},
   "outputs": [],
   "source": [
    "titles = pd.read_sql(\"\"\"select emp_no, count(title) as number_of_titles, DateDiff(now(), hire_date) as tenure_in_days \n",
    "                        from employees join titles using (emp_no) \n",
    "                        group by emp_no\"\"\", url)"
   ]
  },
  {
   "cell_type": "code",
   "execution_count": 544,
   "metadata": {
    "scrolled": true
   },
   "outputs": [
    {
     "name": "stdout",
     "output_type": "stream",
     "text": [
      "r = 0.266599\n",
      "p = 0.000000\n"
     ]
    },
    {
     "data": {
      "text/plain": [
       "<matplotlib.axes._subplots.AxesSubplot at 0x1a2f8baf28>"
      ]
     },
     "execution_count": 544,
     "metadata": {},
     "output_type": "execute_result"
    },
    {
     "data": {
      "image/png": "[encoded data removed]",
      "text/plain": [
       "<Figure size 432x288 with 1 Axes>"
      ]
     },
     "metadata": {
      "needs_background": "light"
     },
     "output_type": "display_data"
    }
   ],
   "source": [
    "r,p = stats.pearsonr(titles.number_of_titles, titles.tenure_in_days)\n",
    "print(f'r = {r:f}')\n",
    "print(f'p = {p:f}')\n",
    "titles.plot.scatter('tenure_in_days', 'number_of_titles')\n",
    "# There is a weak correlation"
   ]
  },
  {
   "cell_type": "markdown",
   "metadata": {},
   "source": [
    "- Use the sleepstudy data. Is there a relationship between days and reaction time?"
   ]
  },
  {
   "cell_type": "code",
   "execution_count": 545,
   "metadata": {},
   "outputs": [
    {
     "name": "stdout",
     "output_type": "stream",
     "text": [
      "r = 0.989318\n",
      "p = 0.000000\n"
     ]
    },
    {
     "data": {
      "text/plain": [
       "<matplotlib.axes._subplots.AxesSubplot at 0x1a202895f8>"
      ]
     },
     "execution_count": 545,
     "metadata": {},
     "output_type": "execute_result"
    },
    {
     "data": {
      "image/png": "[encoded data removed]",
      "text/plain": [
       "<Figure size 432x288 with 1 Axes>"
      ]
     },
     "metadata": {
      "needs_background": "light"
     },
     "output_type": "display_data"
    }
   ],
   "source": [
    "sleep = data(\"sleepstudy\")\n",
    "sleep = pd.DataFrame(sleep)\n",
    "sleep['days'] = sleep.Days\n",
    "sleep = sleep.groupby(['Days']).mean()\n",
    "r,p = stats.pearsonr(sleep.Reaction, sleep.days)\n",
    "print(f'r = {r:f}')\n",
    "print(f'p = {p:f}')\n",
    "sleep.plot.scatter('Reaction', 'days')\n",
    "#Yes, there is a very strong correlation between reaction time and days."
   ]
  },
  {
   "cell_type": "markdown",
   "metadata": {},
   "source": [
    "### Part 3: Chi Testing"
   ]
  },
  {
   "cell_type": "markdown",
   "metadata": {},
   "source": [
    "- Use the following contingency table to help answer the question of whether using a macbook and being a codeup student are independent of each other."
   ]
  },
  {
   "cell_type": "code",
   "execution_count": 546,
   "metadata": {},
   "outputs": [
    {
     "data": {
      "text/html": [
       "<div>\n",
       "<style scoped>\n",
       "    .dataframe tbody tr th:only-of-type {\n",
       "        vertical-align: middle;\n",
       "    }\n",
       "\n",
       "    .dataframe tbody tr th {\n",
       "        vertical-align: top;\n",
       "    }\n",
       "\n",
       "    .dataframe thead th {\n",
       "        text-align: right;\n",
       "    }\n",
       "</style>\n",
       "<table border=\"1\" class=\"dataframe\">\n",
       "  <thead>\n",
       "    <tr style=\"text-align: right;\">\n",
       "      <th></th>\n",
       "      <th>Codeup Student</th>\n",
       "      <th>Not Codeup Student</th>\n",
       "    </tr>\n",
       "  </thead>\n",
       "  <tbody>\n",
       "    <tr>\n",
       "      <th>Uses a Macbook</th>\n",
       "      <td>49</td>\n",
       "      <td>20</td>\n",
       "    </tr>\n",
       "    <tr>\n",
       "      <th>Doesn't Use A Macbook</th>\n",
       "      <td>1</td>\n",
       "      <td>30</td>\n",
       "    </tr>\n",
       "  </tbody>\n",
       "</table>\n",
       "</div>"
      ],
      "text/plain": [
       "                       Codeup Student  Not Codeup Student\n",
       "Uses a Macbook                     49                  20\n",
       "Doesn't Use A Macbook               1                  30"
      ]
     },
     "execution_count": 546,
     "metadata": {},
     "output_type": "execute_result"
    }
   ],
   "source": [
    "index = ['Uses a Macbook', \"Doesn't Use A Macbook\"]\n",
    "columns = ['Codeup Student', 'Not Codeup Student']\n",
    "\n",
    "observed = pd.DataFrame([[49, 20], [1, 30]], index=index, columns=columns)\n",
    "n = observed.values.sum()\n",
    "observed"
   ]
  },
  {
   "cell_type": "code",
   "execution_count": 547,
   "metadata": {},
   "outputs": [
    {
     "name": "stdout",
     "output_type": "stream",
     "text": [
      "Observed\n",
      "\n",
      "[[49 20]\n",
      " [ 1 30]]\n",
      "---\n",
      "Expected\n",
      "\n",
      "[[34.5 34.5]\n",
      " [15.5 15.5]]\n",
      "---\n",
      "\n",
      "chi^2 = 36.6526\n",
      "p     = 0.0000\n",
      "\n",
      "The results are significant. Reject the null hypothesis that Codeup student and Macbook use are independent\n"
     ]
    }
   ],
   "source": [
    "chi2, p, degf, expected = stats.chi2_contingency(observed)\n",
    "print('Observed\\n')\n",
    "print(observed.values)\n",
    "print('---\\nExpected\\n')\n",
    "print(expected)\n",
    "print('---\\n')\n",
    "print(f'chi^2 = {chi2:.4f}')\n",
    "print(f'p     = {p:.4f}')\n",
    "print('\\nThe results are significant. Reject the null hypothesis that Codeup student and Macbook use are independent')"
   ]
  },
  {
   "cell_type": "markdown",
   "metadata": {},
   "source": [
    "- Choose another 2 categorical variables from the mpg dataset and perform a ${\\chi}^2$ contingency table test with them. Be sure to state your null and alternative hypotheses."
   ]
  },
  {
   "cell_type": "markdown",
   "metadata": {},
   "source": [
    "H$_0$ : Year and transmisison type are indepenedent of each other.\n",
    "\n",
    "H$_a$ : Year and transmission type are not independent of each other."
   ]
  },
  {
   "cell_type": "code",
   "execution_count": 548,
   "metadata": {},
   "outputs": [],
   "source": [
    "mpg = data('mpg')\n",
    "mpg_observed = pd.DataFrame(mpg)"
   ]
  },
  {
   "cell_type": "code",
   "execution_count": 549,
   "metadata": {},
   "outputs": [],
   "source": [
    "mpg_observed['trans'] = mpg_observed.trans.str[:-4]"
   ]
  },
  {
   "cell_type": "code",
   "execution_count": 550,
   "metadata": {},
   "outputs": [
    {
     "data": {
      "text/html": [
       "<div>\n",
       "<style scoped>\n",
       "    .dataframe tbody tr th:only-of-type {\n",
       "        vertical-align: middle;\n",
       "    }\n",
       "\n",
       "    .dataframe tbody tr th {\n",
       "        vertical-align: top;\n",
       "    }\n",
       "\n",
       "    .dataframe thead th {\n",
       "        text-align: right;\n",
       "    }\n",
       "</style>\n",
       "<table border=\"1\" class=\"dataframe\">\n",
       "  <thead>\n",
       "    <tr style=\"text-align: right;\">\n",
       "      <th>year</th>\n",
       "      <th>1999</th>\n",
       "      <th>2008</th>\n",
       "    </tr>\n",
       "    <tr>\n",
       "      <th>trans</th>\n",
       "      <th></th>\n",
       "      <th></th>\n",
       "    </tr>\n",
       "  </thead>\n",
       "  <tbody>\n",
       "    <tr>\n",
       "      <th>auto</th>\n",
       "      <td>74</td>\n",
       "      <td>83</td>\n",
       "    </tr>\n",
       "    <tr>\n",
       "      <th>manual</th>\n",
       "      <td>43</td>\n",
       "      <td>34</td>\n",
       "    </tr>\n",
       "  </tbody>\n",
       "</table>\n",
       "</div>"
      ],
      "text/plain": [
       "year    1999  2008\n",
       "trans             \n",
       "auto      74    83\n",
       "manual    43    34"
      ]
     },
     "execution_count": 550,
     "metadata": {},
     "output_type": "execute_result"
    }
   ],
   "source": [
    "mpg_crosstab = pd.crosstab(mpg_observed.trans, mpg_observed.year)\n",
    "mpg_crosstab"
   ]
  },
  {
   "cell_type": "code",
   "execution_count": 551,
   "metadata": {},
   "outputs": [
    {
     "name": "stdout",
     "output_type": "stream",
     "text": [
      "Observed\n",
      "\n",
      "[[74 83]\n",
      " [43 34]]\n",
      "---\n",
      "Expected\n",
      "\n",
      "[[78.5 78.5]\n",
      " [38.5 38.5]]\n",
      "---\n",
      "\n",
      "chi^2 = 1.2388\n",
      "p     = 0.2657\n"
     ]
    }
   ],
   "source": [
    "chi2, p, degf, expected = stats.chi2_contingency(mpg_crosstab)\n",
    "print('Observed\\n')\n",
    "print(mpg_crosstab.values)\n",
    "print('---\\nExpected\\n')\n",
    "print(expected)\n",
    "print('---\\n')\n",
    "print(f'chi^2 = {chi2:.4f}')\n",
    "print(f'p     = {p:.4f}')\n",
    "#fail to reject the null hypothesis that transmission type and year make are indifferent"
   ]
  },
  {
   "cell_type": "markdown",
   "metadata": {},
   "source": [
    "- Use the data from the employees database to answer these questions:"
   ]
  },
  {
   "cell_type": "code",
   "execution_count": 556,
   "metadata": {},
   "outputs": [],
   "source": [
    "url = f'mysql+pymysql://{user}:{password}@{host}/employees'\n",
    "employees_data = pd.read_sql('select * from employees', url)"
   ]
  },
  {
   "cell_type": "markdown",
   "metadata": {},
   "source": [
    "- Is an employee's gender independent of whether an employee works in sales or marketing? (only look at current employees)"
   ]
  },
  {
   "cell_type": "code",
   "execution_count": 557,
   "metadata": {},
   "outputs": [],
   "source": [
    "gender = pd.read_sql(\"\"\"select dept_name, gender from employees_with_departments\n",
    "join salaries using (emp_no)\n",
    "join employees using (emp_no)\n",
    "where to_date = '9999-01-01' and dept_name = 'Sales' or to_date = '9999-01-01' and dept_name = 'Marketing'\"\"\",url)"
   ]
  },
  {
   "cell_type": "code",
   "execution_count": 561,
   "metadata": {},
   "outputs": [
    {
     "data": {
      "text/html": [
       "<div>\n",
       "<style scoped>\n",
       "    .dataframe tbody tr th:only-of-type {\n",
       "        vertical-align: middle;\n",
       "    }\n",
       "\n",
       "    .dataframe tbody tr th {\n",
       "        vertical-align: top;\n",
       "    }\n",
       "\n",
       "    .dataframe thead th {\n",
       "        text-align: right;\n",
       "    }\n",
       "</style>\n",
       "<table border=\"1\" class=\"dataframe\">\n",
       "  <thead>\n",
       "    <tr style=\"text-align: right;\">\n",
       "      <th>gender</th>\n",
       "      <th>F</th>\n",
       "      <th>M</th>\n",
       "    </tr>\n",
       "    <tr>\n",
       "      <th>dept_name</th>\n",
       "      <th></th>\n",
       "      <th></th>\n",
       "    </tr>\n",
       "  </thead>\n",
       "  <tbody>\n",
       "    <tr>\n",
       "      <th>Marketing</th>\n",
       "      <td>6429</td>\n",
       "      <td>9823</td>\n",
       "    </tr>\n",
       "    <tr>\n",
       "      <th>Sales</th>\n",
       "      <td>16698</td>\n",
       "      <td>25302</td>\n",
       "    </tr>\n",
       "  </tbody>\n",
       "</table>\n",
       "</div>"
      ],
      "text/plain": [
       "gender         F      M\n",
       "dept_name              \n",
       "Marketing   6429   9823\n",
       "Sales      16698  25302"
      ]
     },
     "execution_count": 561,
     "metadata": {},
     "output_type": "execute_result"
    }
   ],
   "source": [
    "gender_crosstab = pd.crosstab(gender.dept_name, gender.gender)\n",
    "gender_crosstab"
   ]
  },
  {
   "cell_type": "code",
   "execution_count": 565,
   "metadata": {},
   "outputs": [
    {
     "name": "stdout",
     "output_type": "stream",
     "text": [
      "Observed\n",
      "\n",
      "[[ 6429  9823]\n",
      " [16698 25302]]\n",
      "---\n",
      "Expected\n",
      "\n",
      "[[ 6452.31071895  9799.68928105]\n",
      " [16674.68928105 25325.31071895]]\n",
      "---\n",
      "\n",
      "chi^2 = 0.1855\n",
      "p     = 0.6667\n"
     ]
    }
   ],
   "source": [
    "chi2, p, degf, expected = stats.chi2_contingency(gender_crosstab)\n",
    "print('Observed\\n')\n",
    "print(gender_crosstab.values)\n",
    "print('---\\nExpected\\n')\n",
    "print(expected)\n",
    "print('---\\n')\n",
    "print(f'chi^2 = {chi2:.4f}')\n",
    "print(f'p     = {p:.4f}')\n",
    "#fail to reject the null hypothesis that gender and sales/marketing departments are independent of each other"
   ]
  },
  {
   "cell_type": "markdown",
   "metadata": {},
   "source": [
    "- Is an employee's gender independent of whether or not they are or have been a manager?"
   ]
  },
  {
   "cell_type": "code",
   "execution_count": null,
   "metadata": {},
   "outputs": [],
   "source": []
  },
  {
   "cell_type": "code",
   "execution_count": null,
   "metadata": {},
   "outputs": [],
   "source": []
  },
  {
   "cell_type": "code",
   "execution_count": null,
   "metadata": {},
   "outputs": [],
   "source": []
  },
  {
   "cell_type": "code",
   "execution_count": null,
   "metadata": {},
   "outputs": [],
   "source": []
  },
  {
   "cell_type": "code",
   "execution_count": null,
   "metadata": {},
   "outputs": [],
   "source": []
  },
  {
   "cell_type": "code",
   "execution_count": null,
   "metadata": {},
   "outputs": [],
   "source": []
  }
 ],
 "metadata": {
  "kernelspec": {
   "display_name": "Python 3",
   "language": "python",
   "name": "python3"
  },
  "language_info": {
   "codemirror_mode": {
    "name": "ipython",
    "version": 3
   },
   "file_extension": ".py",
   "mimetype": "text/x-python",
   "name": "python",
   "nbconvert_exporter": "python",
   "pygments_lexer": "ipython3",
   "version": "3.7.3"
  }
 },
 "nbformat": 4,
 "nbformat_minor": 2
}
